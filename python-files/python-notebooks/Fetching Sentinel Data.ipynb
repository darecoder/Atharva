{
 "cells": [
  {
   "cell_type": "code",
   "execution_count": 1,
   "metadata": {},
   "outputs": [],
   "source": [
    "from sentinelsat import SentinelAPI, read_geojson, geojson_to_wkt\n",
    "from datetime import date, timedelta, datetime"
   ]
  },
  {
   "cell_type": "code",
   "execution_count": 2,
   "metadata": {},
   "outputs": [],
   "source": [
    "PRODUCT_TYPE = 'L2__SO2___'"
   ]
  },
  {
   "cell_type": "code",
   "execution_count": 3,
   "metadata": {},
   "outputs": [],
   "source": [
    "# foo = ('POLYGON((64.39321243769453 32.99050642026454,65.1071061454295 31.541810226679573,65.53544237007047 30.3787002036174,66.10655733625846 29.326140104417348,66.74906167321993 27.947747877384003,67.24878726863443 26.4876581272474,67.8912916055959 25.202724415016576,68.60518531333086 23.18418119889961,69.03352153797185 21.865353070781254,69.53324713338634 20.400464635194865,70.03297272880081 19.12398637330425,70.46130895344179 17.905515376010257,71.03242391962978 16.130751604659253,71.38937077349726 15.30612299241703,74.95883931217213 17.02023700106473,77.02913106460355 17.837570765606543,79.31359092935546 18.786396315787655,82.31194450184235 19.729907057806884,86.45252800670518 20.534229947155765,90.8072796238885 20.868130544384442,96.0187036903538 20.868130544384442,95.59036746571283 24.16488448931713,95.01925249952485 28.199707134282775,94.44813753333686 32.20866593196075,94.09119067946938 35.41097405280303,93.52007571328141 38.825409770099924,84.09667877117978 38.992063990942995,75.67273301990708 37.704414363215975,68.10545971791639 34.88562459689284,64.39321243769453 32.99050642026454,64.39321243769453 32.99050642026454))')"
   ]
  },
  {
   "cell_type": "code",
   "execution_count": 5,
   "metadata": {},
   "outputs": [
    {
     "name": "stdout",
     "output_type": "stream",
     "text": [
      "Next START DATE:  2020-03-15\n"
     ]
    }
   ],
   "source": [
    "START_DATE = date(2020,3,8)\n",
    "END_DATE = START_DATE + timedelta(days=7, hours=23, minutes=59, seconds=59)\n",
    "print(\"Next START DATE: \", END_DATE + timedelta(seconds=1))"
   ]
  },
  {
   "cell_type": "code",
   "execution_count": 6,
   "metadata": {},
   "outputs": [],
   "source": [
    "area = \"POLYGON((67.60573412250191 7.262192409251,96.80398676886229 7.262192409251,96.80398676886229 37.81729142592796,67.60573412250191 37.81729142592796,67.60573412250191 7.262192409251))\""
   ]
  },
  {
   "cell_type": "code",
   "execution_count": 7,
   "metadata": {},
   "outputs": [],
   "source": [
    "api = SentinelAPI('s5pguest', 's5pguest', 'https://s5phub.copernicus.eu/dhus/')\n",
    "products = api.query(area,date = (START_DATE, END_DATE),platformname='Sentinel-5 Precursor', producttype=PRODUCT_TYPE )"
   ]
  },
  {
   "cell_type": "code",
   "execution_count": 8,
   "metadata": {
    "scrolled": true
   },
   "outputs": [],
   "source": [
    "df = api.to_dataframe(products)"
   ]
  },
  {
   "cell_type": "code",
   "execution_count": 9,
   "metadata": {},
   "outputs": [
    {
     "name": "stdout",
     "output_type": "stream",
     "text": [
      "https://s5phub.copernicus.eu/dhus/odata/v1/Products('96defe17-d53d-447f-8edc-3e0446f3b765')/$value\n",
      "https://s5phub.copernicus.eu/dhus/odata/v1/Products('9957188c-c410-43b3-9133-2e6e8a8b65f4')/$value\n",
      "https://s5phub.copernicus.eu/dhus/odata/v1/Products('5d4c663c-e04e-446b-90ac-3dc8cfb5aa2e')/$value\n",
      "https://s5phub.copernicus.eu/dhus/odata/v1/Products('2cacabcb-2c51-4239-8e59-f6df7dc3911f')/$value\n",
      "https://s5phub.copernicus.eu/dhus/odata/v1/Products('a0d32a80-d8d8-44af-acdb-7aa76409ed77')/$value\n",
      "https://s5phub.copernicus.eu/dhus/odata/v1/Products('44a6067f-72d3-46a2-bec7-5f0b404969ed')/$value\n",
      "https://s5phub.copernicus.eu/dhus/odata/v1/Products('a45d6156-b176-4542-9b84-49ff30d68803')/$value\n",
      "https://s5phub.copernicus.eu/dhus/odata/v1/Products('e4894b6d-4d0c-4107-9927-e335f1e49463')/$value\n",
      "https://s5phub.copernicus.eu/dhus/odata/v1/Products('b8940cb8-c53b-4924-be94-47432a577d27')/$value\n",
      "https://s5phub.copernicus.eu/dhus/odata/v1/Products('6aa74b27-0024-40ce-8250-043e09c40be9')/$value\n",
      "https://s5phub.copernicus.eu/dhus/odata/v1/Products('e28128a2-73aa-4a30-8208-d7b5faf6770a')/$value\n",
      "https://s5phub.copernicus.eu/dhus/odata/v1/Products('39e55609-c756-476a-8990-db0f4d529a80')/$value\n",
      "https://s5phub.copernicus.eu/dhus/odata/v1/Products('49db4d32-ca25-4e40-9749-845c6254a7be')/$value\n",
      "https://s5phub.copernicus.eu/dhus/odata/v1/Products('abb37693-7385-4e33-923f-c0ce921a5614')/$value\n",
      "https://s5phub.copernicus.eu/dhus/odata/v1/Products('5adee357-4c94-4b8e-922b-fe7518964644')/$value\n",
      "https://s5phub.copernicus.eu/dhus/odata/v1/Products('931b21ab-e40c-4ffd-9e13-afb426c82729')/$value\n",
      "https://s5phub.copernicus.eu/dhus/odata/v1/Products('0b52a60d-4105-47f8-97d1-d314b5f3d5fe')/$value\n",
      "https://s5phub.copernicus.eu/dhus/odata/v1/Products('351479d0-16e4-4548-b334-1084fc15fd47')/$value\n",
      "https://s5phub.copernicus.eu/dhus/odata/v1/Products('e79d7e0a-2620-4849-8568-1c940c80e9ea')/$value\n"
     ]
    }
   ],
   "source": [
    "df = df[df['processingmodeabbreviation'] == 'OFFL']\n",
    "for i in df['link'] :\n",
    "    print(i);"
   ]
  },
  {
   "cell_type": "code",
   "execution_count": 10,
   "metadata": {},
   "outputs": [
    {
     "name": "stdout",
     "output_type": "stream",
     "text": [
      "uget-gtk --quiet --user=s5pguest --password=s5pguest --folder=/home/tabassum/Dementors-SIH/L2__SO2____FROM_2020-03-08_TO_2020-03-15\n"
     ]
    }
   ],
   "source": [
    "import os\n",
    "import subprocess\n",
    "\n",
    "folder_name = f'{PRODUCT_TYPE}_FROM_{START_DATE}_TO_{END_DATE}'\n",
    "if not os.path.exists(folder_name):\n",
    "    os.mkdir(folder_name)\n",
    "uget_command = f'uget-gtk --quiet --user=s5pguest --password=s5pguest --folder={os.path.abspath(folder_name)}'\n",
    "print(uget_command)\n",
    "for url in df['link']:\n",
    "    subprocess.run(f'{uget_command} {url}'.split())"
   ]
  },
  {
   "cell_type": "code",
   "execution_count": 11,
   "metadata": {},
   "outputs": [
    {
     "data": {
      "text/plain": [
       "'L2__SO2____FROM_2020-03-08_TO_2020-03-15'"
      ]
     },
     "execution_count": 11,
     "metadata": {},
     "output_type": "execute_result"
    }
   ],
   "source": [
    "folder_name"
   ]
  },
  {
   "cell_type": "code",
   "execution_count": null,
   "metadata": {},
   "outputs": [],
   "source": []
  }
 ],
 "metadata": {
  "kernelspec": {
   "display_name": "Python 3",
   "language": "python",
   "name": "python3"
  },
  "language_info": {
   "codemirror_mode": {
    "name": "ipython",
    "version": 3
   },
   "file_extension": ".py",
   "mimetype": "text/x-python",
   "name": "python",
   "nbconvert_exporter": "python",
   "pygments_lexer": "ipython3",
   "version": "3.7.4"
  }
 },
 "nbformat": 4,
 "nbformat_minor": 4
}
